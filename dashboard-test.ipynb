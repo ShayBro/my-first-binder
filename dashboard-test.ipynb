{
 "cells": [
  {
   "cell_type": "markdown",
   "id": "4aca2cc4-70b2-4f4d-ab6d-e5eadbcefb21",
   "metadata": {},
   "source": [
    "Sharon bromberger 12th may 2024"
   ]
  },
  {
   "cell_type": "markdown",
   "id": "1b4dffaf-d609-4730-94a2-53505e7e528e",
   "metadata": {},
   "source": [
    "# Example Dashboard"
   ]
  },
  {
   "cell_type": "markdown",
   "id": "1e53cf45-d77b-49f4-86dd-e30be2c640c3",
   "metadata": {},
   "source": [
    "## This is a simple Bar Graph\n",
    "### It uses bar chart labels"
   ]
  },
  {
   "cell_type": "code",
   "execution_count": null,
   "id": "bcaa5b9a-2824-498f-9f44-4ba09e12f4ba",
   "metadata": {},
   "outputs": [],
   "source": [
    "import matplotlib.pyplot as plt\n",
    "import numpy as np\n",
    "species = ('Adelie', 'Chinstrap', 'Gentoo')\n",
    "sex_counts = {\n",
    "    'Male': np.array([73, 34, 61]),\n",
    "    'Female': np.array([73, 34, 58]),\n",
    "}\n",
    "width = 0.6  # the width of the bars: can also be len(x) sequence\n",
    "\n",
    "\n",
    "fig, ax = plt.subplots()\n",
    "bottom = np.zeros(3)\n",
    "\n",
    "for sex, sex_count in sex_counts.items():\n",
    "    p = ax.bar(species, sex_count, width, label=sex, bottom=bottom)\n",
    "    bottom += sex_count\n",
    "\n",
    "    ax.bar_label(p, label_type='center')\n",
    "\n",
    "ax.set_title('Number of penguins by sex')\n",
    "ax.legend()\n",
    "\n",
    "plt.show()"
   ]
  },
  {
   "cell_type": "markdown",
   "id": "73265003-d910-4d20-8afe-be21b4bd45d7",
   "metadata": {},
   "source": [
    "## Box plots with custom fill colours\n",
    "### This plot illustrates how to create two types of box plots (rectangular and notched), and how to fill them with custom colors by accessing the properties of the artists of the box plots. Additionally, the labels parameter is used to provide x-tick labels for each sample."
   ]
  },
  {
   "cell_type": "code",
   "execution_count": null,
   "id": "ee216c62-2deb-4ad5-857a-d35d2cad7f14",
   "metadata": {},
   "outputs": [],
   "source": [
    "import matplotlib.pyplot as plt\n",
    "import numpy as np\n",
    "\n",
    "# Random test data\n",
    "np.random.seed(19680801)\n",
    "all_data = [np.random.normal(0, std, size=100) for std in range(1, 4)]\n",
    "labels = ['x1', 'x2', 'x3']\n",
    "\n",
    "fig, (ax1, ax2) = plt.subplots(nrows=1, ncols=2, figsize=(9, 4))\n",
    "\n",
    "# rectangular box plot\n",
    "bplot1 = ax1.boxplot(all_data,\n",
    "                     vert=True,  # vertical box alignment\n",
    "                     patch_artist=True,  # fill with color\n",
    "                     labels=labels)  # will be used to label x-ticks\n",
    "ax1.set_title('Rectangular box plot')\n",
    "\n",
    "# notch shape box plot\n",
    "bplot2 = ax2.boxplot(all_data,\n",
    "                     notch=True,  # notch shape\n",
    "                     vert=True,  # vertical box alignment\n",
    "                     patch_artist=True,  # fill with color\n",
    "                     labels=labels)  # will be used to label x-ticks\n",
    "ax2.set_title('Notched box plot')\n",
    "\n",
    "# fill with colors\n",
    "colors = ['pink', 'lightblue', 'lightgreen']\n",
    "for bplot in (bplot1, bplot2):\n",
    "    for patch, color in zip(bplot['boxes'], colors):\n",
    "        patch.set_facecolor(color)\n",
    "\n",
    "# adding horizontal grid lines\n",
    "for ax in [ax1, ax2]:\n",
    "    ax.yaxis.grid(True)\n",
    "    ax.set_xlabel('Three separate samples')\n",
    "    ax.set_ylabel('Observed values')\n",
    "\n",
    "plt.show()\n"
   ]
  },
  {
   "cell_type": "markdown",
   "id": "6c22047a-fa4b-4333-9d22-252a824d727f",
   "metadata": {},
   "source": [
    "## Finally a nested pie chart\n",
    "### This uses the pie method.\n",
    "\n",
    "### In this case, pie takes values corresponding to counts in a group. \n",
    "\n",
    "#### We'll first generate some fake data, corresponding to three groups. In the inner circle, we'll treat each number as belonging to its own group. In the outer circle, we'll plot them as members of their original 3 groups.\n",
    "\n",
    "#### The effect of the donut shape is achieved by setting a width to the pie's wedges through the wedgeprops argument."
   ]
  },
  {
   "cell_type": "code",
   "execution_count": null,
   "id": "506785dd-aff0-4d6d-be7b-84c4585ee986",
   "metadata": {},
   "outputs": [],
   "source": [
    "import matplotlib.pyplot as plt\n",
    "import numpy as np\n",
    "fig, ax = plt.subplots()\n",
    "\n",
    "size = 0.3\n",
    "vals = np.array([[60., 32.], [37., 40.], [29., 10.]])\n",
    "\n",
    "cmap = plt.colormaps[\"tab20c\"]\n",
    "outer_colors = cmap(np.arange(3)*4)\n",
    "inner_colors = cmap([1, 2, 5, 6, 9, 10])\n",
    "\n",
    "ax.pie(vals.sum(axis=1), radius=1, colors=outer_colors,\n",
    "       wedgeprops=dict(width=size, edgecolor='w'))\n",
    "\n",
    "ax.pie(vals.flatten(), radius=1-size, colors=inner_colors,\n",
    "       wedgeprops=dict(width=size, edgecolor='w'))\n",
    "\n",
    "ax.set(aspect=\"equal\", title='Pie plot with `ax.pie`')\n",
    "plt.show()\n"
   ]
  }
 ],
 "metadata": {
  "kernelspec": {
   "display_name": "Python 3 (ipykernel)",
   "language": "python",
   "name": "python3"
  },
  "language_info": {
   "codemirror_mode": {
    "name": "ipython",
    "version": 3
   },
   "file_extension": ".py",
   "mimetype": "text/x-python",
   "name": "python",
   "nbconvert_exporter": "python",
   "pygments_lexer": "ipython3",
   "version": "3.12.3"
  }
 },
 "nbformat": 4,
 "nbformat_minor": 5
}
